{
 "cells": [
  {
   "cell_type": "code",
   "execution_count": 17,
   "metadata": {},
   "outputs": [],
   "source": [
    "import numpy as np\n",
    "import matplotlib.pyplot as plt\n",
    "\n",
    "inp = np.array([[0,1,0],[0,1,1],[0,0,0],[1,0,0],[1,1,1],[1,0,1]])\n",
    "out = np.array([[0],[0],[0],[0],[0],[0]])"
   ]
  },
  {
   "cell_type": "code",
   "execution_count": 44,
   "metadata": {},
   "outputs": [],
   "source": [
    "class NeuralNetwork:\n",
    "    \n",
    "    def __init__(self,inp,out):\n",
    "        self.inp=inp\n",
    "        self.out=out\n",
    "        self.weights = np.array([[0.50],[0.50],[0.50]])\n",
    "        self.err=[]\n",
    "        self.ep=[]\n",
    "        \n",
    "    def sigmoid(self,x,deriv=False):\n",
    "        if(deriv==True):\n",
    "            return x*(1-x)\n",
    "        return 1/(1+np.exp(-x))\n",
    "    \n",
    "    def forwardprop(self):\n",
    "        self.hidden = self.sigmoid(np.dot(self.inp,self.weights))\n",
    "    \n",
    "    def backprop(self):\n",
    "        self.error = self.out-self.hidden\n",
    "        change = self.error * self.sigmoid(self.hidden,deriv=True)\n",
    "        self.weights+= np.dot(self.inp.T, change)\n",
    "        \n",
    "    def train(self, epochs=20000):\n",
    "        for epoch in range(epochs):\n",
    "            self.forwardprop()\n",
    "            self.backprop()\n",
    "            self.err.append(np.average(np.abs(self.error)))\n",
    "            self.ep.append(epoch)\n",
    "            \n",
    "    def predict(self,inp1):\n",
    "        pre = self.sigmoid(np.dot(inp1,self.weights))\n",
    "        return pre\n",
    "    \n",
    "        "
   ]
  },
  {
   "cell_type": "code",
   "execution_count": 45,
   "metadata": {},
   "outputs": [
    {
     "name": "stdout",
     "output_type": "stream",
     "text": [
      "[[2.45757259e-05]]  -value  1\n",
      "[[0.00101565]]  -value  0\n"
     ]
    }
   ],
   "source": [
    "NN = NeuralNetwork(inp,out)\n",
    "NN.train()\n",
    "ex=np.array([[1,1,0]])\n",
    "ex1=np.array([[0,1,1]])\n",
    "\n",
    "print(NN.predict(ex), ' -value ',ex[0][0])\n",
    "print(NN.predict(ex1), ' -value ',ex1[0][0])"
   ]
  },
  {
   "cell_type": "code",
   "execution_count": 48,
   "metadata": {},
   "outputs": [
    {
     "data": {
      "text/plain": [
       "Text(0, 0.5, 'Loss')"
      ]
     },
     "execution_count": 48,
     "metadata": {},
     "output_type": "execute_result"
    },
    {
     "data": {
      "image/png": "[encoded data removed]",
      "text/plain": [
       "<Figure size 1080x360 with 1 Axes>"
      ]
     },
     "metadata": {
      "needs_background": "light"
     },
     "output_type": "display_data"
    }
   ],
   "source": [
    "plt.figure(figsize=(15,5))\n",
    "plt.plot(NN.ep,NN.err)\n",
    "plt.xlabel('Epoch')\n",
    "plt.ylabel('Loss')"
   ]
  },
  {
   "cell_type": "code",
   "execution_count": 49,
   "metadata": {},
   "outputs": [],
   "source": [
    "#THE END"
   ]
  }
 ],
 "metadata": {
  "kernelspec": {
   "display_name": "Python 3",
   "language": "python",
   "name": "python3"
  },
  "language_info": {
   "codemirror_mode": {
    "name": "ipython",
    "version": 3
   },
   "file_extension": ".py",
   "mimetype": "text/x-python",
   "name": "python",
   "nbconvert_exporter": "python",
   "pygments_lexer": "ipython3",
   "version": "3.7.6"
  }
 },
 "nbformat": 4,
 "nbformat_minor": 4
}
